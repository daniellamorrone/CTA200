{
 "cells": [
  {
   "cell_type": "markdown",
   "metadata": {},
   "source": [
    "# CTA200H - Assignment 2\n",
    "### Daniella Morrone\n",
    "\n",
    "May 9, 2021"
   ]
  },
  {
   "cell_type": "code",
   "execution_count": null,
   "metadata": {},
   "outputs": [],
   "source": [
    "import numpy as np\n",
    "import matplotlib.pyplot as plt"
   ]
  },
  {
   "cell_type": "markdown",
   "metadata": {},
   "source": [
    "# Question 1"
   ]
  },
  {
   "cell_type": "code",
   "execution_count": null,
   "metadata": {},
   "outputs": [],
   "source": [
    "def deriv1(f, x0, h):\n",
    "    df = (f(x0+h)-f(x0))/h\n",
    "    return df"
   ]
  },
  {
   "cell_type": "code",
   "execution_count": null,
   "metadata": {},
   "outputs": [],
   "source": [
    "def deriv2(f, x0, h):\n",
    "    df = (f(x0+h)-f(x0-h))/(2*h)\n",
    "    return df"
   ]
  },
  {
   "cell_type": "code",
   "execution_count": null,
   "metadata": {},
   "outputs": [],
   "source": [
    "f = lambda x: np.sin(x)\n",
    "x0 = 0.1\n",
    "h = np.linspace(0,1,10000)"
   ]
  },
  {
   "cell_type": "code",
   "execution_count": null,
   "metadata": {},
   "outputs": [],
   "source": [
    "df = lambda x: np.cos(x)"
   ]
  },
  {
   "cell_type": "code",
   "execution_count": null,
   "metadata": {},
   "outputs": [],
   "source": [
    "d_numerical1 = deriv1(f,x0,h)\n",
    "d_numerical2 = deriv2(f,x0,h)\n",
    "d_analytic = df(x0)"
   ]
  },
  {
   "cell_type": "code",
   "execution_count": null,
   "metadata": {},
   "outputs": [],
   "source": [
    "error1 = abs(d_numerical1-d_analytic)/d_analytic\n",
    "error2 = abs(d_numerical2-d_analytic)/d_analytic"
   ]
  },
  {
   "cell_type": "code",
   "execution_count": null,
   "metadata": {},
   "outputs": [],
   "source": [
    "plt.figure(figsize=(9,6))\n",
    "plt.loglog(h,error1, ls='-.', c='black', label='First Approximation')\n",
    "plt.loglog(h,error2, ls='--', c='green', label='Second Approximation')\n",
    "plt.xlabel('Step: h', fontsize=20)\n",
    "plt.ylabel('Error', fontsize=20)\n",
    "plt.xticks(fontsize=15)\n",
    "plt.yticks(fontsize=15)\n",
    "plt.legend(fontsize=17)\n",
    "plt.grid(alpha=0.5)\n",
    "plt.savefig('q1.pdf')\n",
    "plt.savefig('q1.eps')\n",
    "plt.show()"
   ]
  },
  {
   "cell_type": "markdown",
   "metadata": {},
   "source": [
    "_what do you notice_"
   ]
  },
  {
   "cell_type": "markdown",
   "metadata": {},
   "source": [
    "_what does the slope represent_"
   ]
  },
  {
   "cell_type": "markdown",
   "metadata": {},
   "source": [
    "# Question 2"
   ]
  },
  {
   "cell_type": "code",
   "execution_count": null,
   "metadata": {},
   "outputs": [],
   "source": [
    "N = 1000\n",
    "x = np.linspace(-2,2,N)\n",
    "y = np.linspace(-2,2,N)\n",
    "z0 = 0"
   ]
  },
  {
   "cell_type": "code",
   "execution_count": null,
   "metadata": {},
   "outputs": [],
   "source": [
    "def mandelbrot(x,y):\n",
    "    z = 0\n",
    "    div = False #boolean\n",
    "    inf = 100\n",
    "    i = 0 #counting\n",
    "    maxi = 255\n",
    "    \n",
    "    while abs(z)<inf and i<maxi:\n",
    "        z = z*z + complex(x,y)\n",
    "        \n",
    "        if abs(z) > inf:\n",
    "            div = True\n",
    "        elif abs(z) <= inf:\n",
    "            div = False\n",
    "        \n",
    "        i += 1\n",
    "        \n",
    "    return div, i"
   ]
  },
  {
   "cell_type": "code",
   "execution_count": null,
   "metadata": {},
   "outputs": [],
   "source": [
    "diverg = np.empty((len(y),len(x)))\n",
    "iterat = np.empty((len(y),len(x)))\n",
    "\n",
    "for i, xx in enumerate(x):\n",
    "    for j, yy in enumerate(y):\n",
    "        diverg[j][i] = mandelbrot(xx,yy)[0]\n",
    "        iterat[j][i] = mandelbrot(xx,yy)[1]"
   ]
  },
  {
   "cell_type": "code",
   "execution_count": null,
   "metadata": {},
   "outputs": [],
   "source": [
    "plt.figure(figsize=(7,7))\n",
    "plt.imshow(diverg,interpolation='nearest',cmap='Greys')\n",
    "plt.xlabel('X', fontsize = 20)\n",
    "plt.ylabel('Y', fontsize = 20)\n",
    "plt.xticks(fontsize = 14)\n",
    "plt.yticks(fontsize = 14)\n",
    "plt.savefig('q2a.pdf')\n",
    "plt.savefig('q2a.eps')\n",
    "plt.show()"
   ]
  },
  {
   "cell_type": "code",
   "execution_count": null,
   "metadata": {},
   "outputs": [],
   "source": [
    "plt.figure(figsize=(7,7))\n",
    "plt.imshow(iterat,interpolation='nearest',cmap='inferno')\n",
    "cbar = plt.colorbar(fraction=0.045)\n",
    "cbar.ax.tick_params(labelsize=14)\n",
    "plt.xlabel('X', fontsize = 20)\n",
    "plt.ylabel('Y', fontsize = 20)\n",
    "plt.xticks(fontsize = 14)\n",
    "plt.yticks(fontsize = 14)\n",
    "plt.savefig('q2b.pdf')\n",
    "plt.savefig('q2b.eps')\n",
    "plt.show()"
   ]
  },
  {
   "cell_type": "markdown",
   "metadata": {},
   "source": [
    "# Question 3"
   ]
  },
  {
   "cell_type": "code",
   "execution_count": null,
   "metadata": {},
   "outputs": [],
   "source": [
    "from scipy.integrate import ode"
   ]
  },
  {
   "cell_type": "code",
   "execution_count": null,
   "metadata": {},
   "outputs": [],
   "source": [
    "def SIR(t, y, N, bet, gam):\n",
    "    S, I, R = y\n",
    "    dS = -bet*S*I/N\n",
    "    dI = bet*S*I/N - gam*I\n",
    "    dR = gam*I\n",
    "    return [dS, dI, dR]"
   ]
  },
  {
   "cell_type": "code",
   "execution_count": null,
   "metadata": {},
   "outputs": [],
   "source": [
    "def SIR_plot(SIR0,N,gam_list,bet_list,tf):\n",
    "    t0 = 0.0\n",
    "    dt = 0.1\n",
    "    \n",
    "    for j,gam in enumerate(gam_list):\n",
    "        print()\n",
    "        fig, ax = plt.subplots(2, 2, dpi=100, figsize=(10, 5))\n",
    "\n",
    "        for i,bet in enumerate(bet_list):\n",
    "            \n",
    "            print('The reproduction number is:', bet/gam)\n",
    "            \n",
    "            times = [t0]\n",
    "            res = [SIR0]\n",
    "            solver = ode(SIR).set_integrator('dopri5').set_initial_value(SIR0, t0).set_f_params(N,bet,gam)\n",
    "            while solver.successful() and solver.t < tf:\n",
    "                times.append(solver.t + dt)\n",
    "                res.append(solver.integrate(solver.t + dt))\n",
    "\n",
    "            S,I,R = np.array(res).T\n",
    "            times = np.array(times)\n",
    "\n",
    "            if i==0:\n",
    "                c = 0,0\n",
    "            elif i==1:\n",
    "                c = 0,1\n",
    "            elif i==2:\n",
    "                c = 1,0\n",
    "            elif i==3:\n",
    "                c = 1,1\n",
    "                \n",
    "            ax[c].plot(times, S, 'black', alpha=1, lw=1.2, ls=':', label='Susceptible')\n",
    "            ax[c].plot(times, I, 'indigo', alpha=1, lw=1, ls='--', label='Infected')\n",
    "            ax[c].plot(times, R, 'green', alpha=1, lw=1, ls='-.', label='Recovered \\nwith immunity')\n",
    "            ax[c].yaxis.set_tick_params(length=2)\n",
    "            ax[c].xaxis.set_tick_params(length=2)\n",
    "            ax[c].grid(b=True, c='black', alpha = 0.1)\n",
    "            if i==0 :\n",
    "                legend = ax[c].legend()\n",
    "            ax[c].set_title(r'$\\gamma$ = '+str(np.round(gam,2))+r', $\\beta$ = '+str(bet))\n",
    "            \n",
    "        for axs in ax.flat:\n",
    "            axs.set(xlabel='Time [days]', ylabel='Number of Individuals')\n",
    "\n",
    "        # Hide x labels and tick labels for top plots and y ticks for right plots.\n",
    "        for axs in ax.flat:\n",
    "            axs.label_outer()\n",
    "\n",
    "        plt.savefig('q3-'+str(j)+'.pdf')\n",
    "        plt.savefig('q3-'+str(j)+'.eps')\n",
    "        plt.show()\n",
    "        print()\n",
    "        print()\n",
    "    return"
   ]
  },
  {
   "cell_type": "code",
   "execution_count": null,
   "metadata": {},
   "outputs": [],
   "source": [
    "I0 = 1\n",
    "S0 = 999\n",
    "R0 = 0\n",
    "N = 1000\n",
    "tf=200\n",
    "SIR0 = [S0,I0,R0]"
   ]
  },
  {
   "cell_type": "markdown",
   "metadata": {},
   "source": [
    "_justify choice of beta and gamma_"
   ]
  },
  {
   "cell_type": "code",
   "execution_count": null,
   "metadata": {
    "scrolled": false
   },
   "outputs": [],
   "source": [
    "bet_list=[1.,0.5,0.3,0.1]\n",
    "gam_list=[1/4,1/10,1/14,1/100]\n",
    "SIR_plot(SIR0,N,gam_list,bet_list,tf)"
   ]
  }
 ],
 "metadata": {
  "kernelspec": {
   "display_name": "Python 3",
   "language": "python",
   "name": "python3"
  },
  "language_info": {
   "codemirror_mode": {
    "name": "ipython",
    "version": 3
   },
   "file_extension": ".py",
   "mimetype": "text/x-python",
   "name": "python",
   "nbconvert_exporter": "python",
   "pygments_lexer": "ipython3",
   "version": "3.6.4"
  }
 },
 "nbformat": 4,
 "nbformat_minor": 2
}
