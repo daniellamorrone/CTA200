{
 "cells": [
  {
   "cell_type": "markdown",
   "metadata": {},
   "source": [
    "# <center> CTA200 Computing Assignment \n",
    "<center>Daniella Morrone - daniella.morrone@mail.utoronto.ca\n",
    "\n",
    "<center>Supervisors: Lamiya Mowla and Kartheik Iyer"
   ]
  },
  {
   "cell_type": "code",
   "execution_count": null,
   "metadata": {},
   "outputs": [],
   "source": [
    "from astropy.io import fits\n",
    "import matplotlib.pyplot as plt\n",
    "from matplotlib import transforms\n",
    "import numpy as np\n",
    "import astropy.units as u\n",
    "from mpl_toolkits.axes_grid1.inset_locator import inset_axes\n",
    "from photutils.aperture import aperture_photometry, CircularAperture\n",
    "from numpy import unravel_index\n",
    "import scipy.constants as con\n",
    "from astropy.cosmology import WMAP9 as cosmo\n",
    "from scipy import integrate as inte"
   ]
  },
  {
   "cell_type": "code",
   "execution_count": null,
   "metadata": {},
   "outputs": [],
   "source": [
    "def read(filename):\n",
    "    hdu = fits.open(filename)\n",
    "    hdr = hdu[0].header\n",
    "    data = hdu[0].data\n",
    "    \n",
    "    return hdr,data"
   ]
  },
  {
   "cell_type": "markdown",
   "metadata": {},
   "source": [
    "# <center> Question 1 - Visualising the galaxy"
   ]
  },
  {
   "cell_type": "markdown",
   "metadata": {},
   "source": [
    "##### Part 1.1\n",
    "Using $\\texttt{astropy.io.fits}$, open $\\texttt{galaxy_hydro.fits}$ and label the different galaxy components"
   ]
  },
  {
   "cell_type": "code",
   "execution_count": null,
   "metadata": {},
   "outputs": [],
   "source": [
    "hdr_hydro,data_hydro = read('galaxy_hydro.fits')"
   ]
  },
  {
   "cell_type": "code",
   "execution_count": null,
   "metadata": {},
   "outputs": [],
   "source": [
    "stmass, strate, gmass, dmass = data_hydro"
   ]
  },
  {
   "cell_type": "markdown",
   "metadata": {},
   "source": [
    "##### Part 1.2\n",
    "Using $\\texttt{matplotlib.pyplot.imshow}$ and $\\texttt{matplotlib.pyplot.contour}$, plot the images of the galaxy components."
   ]
  },
  {
   "cell_type": "code",
   "execution_count": null,
   "metadata": {},
   "outputs": [],
   "source": [
    "log_stmass = np.log10(stmass)\n",
    "log_strate = np.log10(strate)\n",
    "log_gmass = np.log10(gmass)\n",
    "log_dmass = np.log10(dmass)"
   ]
  },
  {
   "cell_type": "code",
   "execution_count": null,
   "metadata": {},
   "outputs": [],
   "source": [
    "fig,axs = plt.subplots(1,4, figsize=(12,6), sharey=True, gridspec_kw={'wspace': 0.4})\n",
    "\n",
    "def axx(i):\n",
    "    axi = inset_axes(axs[i],width=\"3%\",height=\"50%\",loc='upper right',bbox_to_anchor=(0.06, 0., 1, 1),\n",
    "                     bbox_transform=axs[i].transAxes,borderpad=0)\n",
    "    return axi\n",
    "\n",
    "# plot the image of the stellar mass\n",
    "im = axs[0].imshow(stmass, cmap='pink')\n",
    "axs[0].set_title('Stellar Mass', fontsize=20,pad=13)\n",
    "\n",
    "cb = fig.colorbar(im, cax=axx(0), orientation='vertical', aspect=50, shrink=0.7)\n",
    "cb.ax.locator_params(nbins=4)\n",
    "cb.ax.tick_params(labelsize=12)\n",
    "cb.ax.get_xaxis().labelpad = 10\n",
    "cb.ax.set_xlabel('$M_\\odot$', rotation=0,loc='left',fontsize=14)\n",
    "\n",
    "# plot the image of the star formation rate\n",
    "im = axs[1].imshow(strate, cmap='pink')\n",
    "axs[1].set_title('Rate of \\nStar Formation', fontsize=20,pad=10)\n",
    "\n",
    "cb = fig.colorbar(im, cax=axx(1), orientation='vertical', aspect=50, shrink=0.7)\n",
    "cb.ax.locator_params(nbins=4)\n",
    "cb.ax.tick_params(labelsize=12)\n",
    "cb.ax.get_xaxis().labelpad = 10\n",
    "cb.ax.set_xlabel(r'$\\dfrac{M_\\odot}{yr}$', rotation=0,loc='left',fontsize=13)\n",
    "\n",
    "# plot the image of the gas mass\n",
    "im = axs[2].imshow(gmass, cmap='pink')\n",
    "axs[2].set_title('Gas Mass', fontsize=20,pad=13)\n",
    "\n",
    "cb = fig.colorbar(im, cax=axx(2), orientation='vertical', aspect=50, shrink=0.7)\n",
    "cb.ax.locator_params(nbins=4)\n",
    "cb.ax.tick_params(labelsize=12)\n",
    "cb.ax.get_xaxis().labelpad = 10\n",
    "cb.ax.set_xlabel('$M_\\odot$', rotation=0,loc='left',fontsize=14)\n",
    "\n",
    "# plot the image of the dust mass\n",
    "im = axs[3].imshow(dmass, cmap='pink')\n",
    "axs[3].set_title('Dust Mass', fontsize=20,pad=13)\n",
    "\n",
    "cb = fig.colorbar(im, cax=axx(3), orientation='vertical', aspect=50, shrink=0.7)\n",
    "cb.ax.locator_params(nbins=4)\n",
    "cb.ax.tick_params(labelsize=12)\n",
    "cb.ax.get_xaxis().labelpad = 10\n",
    "cb.ax.set_xlabel('$M_\\odot$', rotation=0,loc='left',fontsize=14)\n",
    "\n",
    "for ax in axs:\n",
    "    ax.set_ylim(145,40)\n",
    "    ax.set_xlim(70,122)\n",
    "    ax.tick_params(labelsize=14)\n",
    "    ax.set_xlabel('X [pix]',fontsize=17)\n",
    "\n",
    "axs[0].set_ylabel('Y [pix]',fontsize=17)\n",
    "\n",
    "plt.savefig('all_mass_images.pdf')\n",
    "plt.close()"
   ]
  },
  {
   "cell_type": "code",
   "execution_count": null,
   "metadata": {},
   "outputs": [],
   "source": [
    "# plot the contours of all components on one set of axes\n",
    "fig,axs = plt.subplots(1,1, figsize=(4,8))\n",
    "im = axs.imshow(np.log10(stmass+gmass+dmass), cmap='twilight_shifted')\n",
    "\n",
    "cb = fig.colorbar(im, ax=axs, orientation='vertical', aspect=50, shrink=0.65)\n",
    "cb.ax.tick_params(labelsize=12)\n",
    "cb.ax.get_yaxis().labelpad = 20\n",
    "cb.ax.set_ylabel(r'log( $M_\\odot$)',rotation=270,loc='center',fontsize=14)\n",
    "\n",
    "#axs.contour(log_strate, cmap='winter')\n",
    "#axs.contour(log_gmass, cmap='winter')\n",
    "#axs.contour(log_dmass, cmap='winter')\n",
    "axs.set_xlim(70,122)\n",
    "axs.set_ylim(145,40)\n",
    "axs.set_xlabel('X [pix]',fontsize=17)\n",
    "axs.set_ylabel('Y [pix]',fontsize=17)\n",
    "plt.xticks(fontsize=14)\n",
    "plt.yticks(fontsize=14)\n",
    "plt.title('All Mass Components', fontsize=20,pad=10)\n",
    "plt.savefig('all_components_mass.pdf')\n",
    "plt.close()"
   ]
  },
  {
   "cell_type": "code",
   "execution_count": null,
   "metadata": {},
   "outputs": [],
   "source": [
    "# plot the contours of all components on one set of axes\n",
    "fig,axs = plt.subplots(1,1, figsize=(4,8))\n",
    "axs.contour(log_stmass, cmap='winter')\n",
    "axs.contour(log_strate, cmap='winter')\n",
    "axs.contour(log_gmass, cmap='winter')\n",
    "axs.contour(log_dmass, cmap='winter')\n",
    "axs.set_xlim(70,122)\n",
    "axs.set_ylim(145,40)\n",
    "axs.set_xlabel('X [pix]',fontsize=17)\n",
    "axs.set_ylabel('Y [pix]',fontsize=17)\n",
    "plt.xticks(fontsize=14)\n",
    "plt.yticks(fontsize=14)\n",
    "plt.title('All Galaxy Components', fontsize=20,pad=10)\n",
    "plt.savefig('all_components_contour.pdf')\n",
    "plt.close()"
   ]
  },
  {
   "cell_type": "code",
   "execution_count": null,
   "metadata": {},
   "outputs": [],
   "source": [
    "fig,axs = plt.subplots(1,4, figsize=(12,6), sharey=True, gridspec_kw={'wspace': 0.1})\n",
    "\n",
    "# plot the contour of the stellar mass\n",
    "im = axs[0].contour(log_stmass, cmap='winter')\n",
    "axs[0].set_title('Stellar Mass', fontsize=20,pad=10)\n",
    "\n",
    "# plot the contour of the star formation rate\n",
    "im = axs[1].contour(log_strate, cmap='winter')\n",
    "axs[1].set_title('Rate of \\nStar Formation', fontsize=20,pad=10)\n",
    "\n",
    "# plot the contour of the gas mass\n",
    "im = axs[2].contour(log_gmass, cmap='winter')\n",
    "axs[2].set_title('Gas Mass', fontsize=20,pad=10)\n",
    "\n",
    "# plot the contour of the dust mass\n",
    "im = axs[3].contour(log_dmass, cmap='winter')\n",
    "axs[3].set_title('Dust Mass', fontsize=20,pad=10)\n",
    "\n",
    "for ax in axs:\n",
    "    ax.set_ylim(145,40)\n",
    "    ax.set_xlim(70,122)\n",
    "    ax.tick_params(labelsize=14)\n",
    "    ax.set_xlabel('X [pix]',fontsize=17)\n",
    "\n",
    "axs[0].set_ylabel('Y [pix]',fontsize=17)\n",
    "\n",
    "plt.savefig('separated_components_contour.pdf')\n",
    "plt.close()"
   ]
  },
  {
   "cell_type": "code",
   "execution_count": null,
   "metadata": {},
   "outputs": [],
   "source": [
    "fig,axs = plt.subplots(1,2, figsize=(12,6), sharey=True, gridspec_kw={'wspace': 0.07})\n",
    "\n",
    "# plot the image of the stellar mass with the dust mass contour overlayed\n",
    "im1 = axs[0].imshow(log_stmass, cmap='twilight_shifted')\n",
    "axs[0].contour(log_dmass, cmap='Greys')\n",
    "axs[0].set_title('Stellar Mass \\nand Dust Mass', fontsize=20)\n",
    "\n",
    "cb = fig.colorbar(im1, ax=axs[0], orientation='vertical', aspect=50, shrink=0.65)\n",
    "cb.ax.tick_params(labelsize=12)\n",
    "cb.ax.get_yaxis().labelpad = 20\n",
    "cb.ax.set_ylabel(r'log( $M_\\odot$)',rotation=270,loc='center',fontsize=14)\n",
    "\n",
    "# plot the image of the star formation rate with the gas mass contour overlayed\n",
    "im2 = axs[1].imshow(log_strate, cmap='twilight_shifted')\n",
    "axs[1].contour(log_gmass, cmap='ocean')\n",
    "axs[1].set_title('Star Formation Rate \\nand Gas Mass', fontsize=20)\n",
    "\n",
    "cb = fig.colorbar(im2, ax=axs[1], orientation='vertical', aspect=55, shrink=0.65)\n",
    "cb.ax.tick_params(labelsize=12)\n",
    "cb.ax.get_yaxis().labelpad = 20\n",
    "cb.ax.set_ylabel(r'log( $M_\\odot yr^{-1}$ )',rotation=270,loc='center',fontsize=14)\n",
    "\n",
    "\n",
    "for ax in axs:\n",
    "    ax.tick_params(labelsize=14)\n",
    "    ax.set_xlabel('X [pix]',fontsize=17)\n",
    "axs[0].set_ylabel('Y [pix]',fontsize=17)\n",
    "plt.savefig('contour_image_compare.pdf')\n",
    "plt.close()"
   ]
  },
  {
   "cell_type": "code",
   "execution_count": null,
   "metadata": {},
   "outputs": [],
   "source": [
    "fig,axs = plt.subplots(1,2, figsize=(8,8), sharey=True, gridspec_kw={'wspace': 0.22})\n",
    "\n",
    "# plot the cropped image of the stellar mass with the dust mass contour overlayed\n",
    "im1 = axs[0].imshow(log_stmass, cmap='twilight_shifted')\n",
    "axs[0].contour(log_dmass, cmap='Greys')\n",
    "axs[0].set_title('Stellar Mass \\nand Dust Mass', fontsize=20)\n",
    "\n",
    "cb = fig.colorbar(im1, ax=axs[0], orientation='vertical', aspect=50, shrink=0.65)\n",
    "cb.ax.tick_params(labelsize=12)\n",
    "cb.ax.get_yaxis().labelpad = 20\n",
    "cb.ax.set_ylabel(r'log( $M_\\odot$)',rotation=270,loc='center',fontsize=14)\n",
    "\n",
    "# plot the cropped image of the star formation rate with the gas mass contour overlayed\n",
    "im2 = axs[1].imshow(log_strate, cmap='twilight_shifted')\n",
    "axs[1].contour(log_gmass, cmap='ocean')\n",
    "axs[1].set_title('Star Formation Rate \\nand Gas Mass', fontsize=20)\n",
    "\n",
    "cb = fig.colorbar(im2, ax=axs[1], orientation='vertical', aspect=55, shrink=0.65)\n",
    "cb.ax.tick_params(labelsize=12)\n",
    "cb.ax.get_yaxis().labelpad = 20\n",
    "cb.ax.set_ylabel(r'log( $M_\\odot yr^{-1}$ )',rotation=270,loc='center',fontsize=14)\n",
    "\n",
    "\n",
    "for ax in axs:\n",
    "    ax.set_ylim(145,40)\n",
    "    ax.set_xlim(70,122)\n",
    "    ax.tick_params(labelsize=14)\n",
    "    ax.set_xlabel('X [pix]',fontsize=17)\n",
    "axs[0].set_ylabel('Y [pix]',fontsize=17)\n",
    "plt.savefig('contour_image_compare_cropped.pdf')\n",
    "plt.close()"
   ]
  },
  {
   "cell_type": "markdown",
   "metadata": {},
   "source": [
    "##### Part 1.3\n",
    "Calculate the total stellar mass, dust mass, gas mass and star formation rate of this galaxy."
   ]
  },
  {
   "cell_type": "code",
   "execution_count": null,
   "metadata": {},
   "outputs": [],
   "source": [
    "# calculate the stellar mass and ensure it is consistent with the header\n",
    "Stellar_Mass = np.sum(stmass)*u.M_sun\n",
    "if np.round(np.log10(Stellar_Mass.value),3) == np.round(hdr_hydro['LMSTAR'],3):\n",
    "    SM = Stellar_Mass    \n",
    "SM"
   ]
  },
  {
   "cell_type": "code",
   "execution_count": null,
   "metadata": {},
   "outputs": [],
   "source": [
    "# calculate the dust mass and ensure it is consistent with the header\n",
    "Dust_Mass = np.sum(dmass)*u.M_sun\n",
    "if np.round(np.log10(Dust_Mass.value),3) == np.round(hdr_hydro['LMDUST'],3):\n",
    "    DM = Dust_Mass    \n",
    "DM"
   ]
  },
  {
   "cell_type": "code",
   "execution_count": null,
   "metadata": {},
   "outputs": [],
   "source": [
    "# calculate the gas mass and ensure it is consistent with the header\n",
    "Gas_Mass = np.sum(gmass)*u.M_sun\n",
    "if np.round(np.log10(Gas_Mass.value),3) == np.round(hdr_hydro['LMGAS'],3):\n",
    "    GM = Gas_Mass    \n",
    "GM"
   ]
  },
  {
   "cell_type": "code",
   "execution_count": null,
   "metadata": {},
   "outputs": [],
   "source": [
    "# calculate the star formation rate and ensure it is consistent with the header\n",
    "Star_Formation = np.sum(strate)*u.M_sun/u.yr\n",
    "if np.round(Star_Formation.value,1) == np.round(hdr_hydro['SFR'],1):\n",
    "    SF = Star_Formation    \n",
    "SF"
   ]
  },
  {
   "cell_type": "markdown",
   "metadata": {},
   "source": [
    "##### Part 1.1 - 2\n",
    "Plot a few images of the galaxy at different wavelengths."
   ]
  },
  {
   "cell_type": "code",
   "execution_count": null,
   "metadata": {},
   "outputs": [],
   "source": [
    "hdr_allwav,data_allwav = read('galaxy_allwav.fits')"
   ]
  },
  {
   "cell_type": "code",
   "execution_count": null,
   "metadata": {},
   "outputs": [],
   "source": [
    "# put all data and wavelengths into lists sorted from lowest to highest wavelength\n",
    "intex = []\n",
    "all_wavelengths = np.empty(data_allwav[0].shape[0])\n",
    "for i in range(data_allwav[0].shape[0]):\n",
    "    all_wavelengths[i] = hdr_allwav['IWAV'+str(i)]\n",
    "    \n",
    "sort_waves = np.sort(all_wavelengths)\n",
    "index = []\n",
    "for i in sort_waves:\n",
    "    index.append(np.where(all_wavelengths == i)[0][0])\n",
    "    \n",
    "waves = np.empty(data_allwav[0].shape[0])\n",
    "datas = []\n",
    "for i,ind in enumerate(index):\n",
    "    waves[i]=hdr_allwav['IWAV'+str(ind)]\n",
    "    datas.append(data_allwav[0][ind])"
   ]
  },
  {
   "cell_type": "code",
   "execution_count": null,
   "metadata": {},
   "outputs": [],
   "source": [
    "# define all the chosen wavelengths and data sets using variables\n",
    "UVw,BLw,RDw,IRw,FIRw = hdr_allwav['IWAV0'],hdr_allwav['IWAV3'],hdr_allwav['IWAV1'],hdr_allwav['IWAV9'],hdr_allwav['IWAV17']\n",
    "UV,BL,RD,IR,FIR = data_allwav[0][0], data_allwav[0][3], data_allwav[0][1], data_allwav[0][9], data_allwav[0][17]"
   ]
  },
  {
   "cell_type": "code",
   "execution_count": null,
   "metadata": {},
   "outputs": [],
   "source": [
    "def colorplot(wavelength):\n",
    "    '''\n",
    "    PARAMETERS:\n",
    "    wavelength <ndarray>: data set at desired wavelength\n",
    "    \n",
    "    RETURNS:\n",
    "    image of the data with x and y densities\n",
    "    '''\n",
    "    \n",
    "    x = np.sum(wavelength,axis=0)\n",
    "    y = np.sum(wavelength,axis=1)\n",
    "    \n",
    "    if (wavelength == UV).all():\n",
    "        title = 'Ultraviolet'\n",
    "        i=0\n",
    "    elif (wavelength == BL).all():\n",
    "        title = 'Blue'\n",
    "        i=3\n",
    "    elif (wavelength == RD).all():\n",
    "        title = 'Red'\n",
    "        i=1\n",
    "    elif (wavelength == IR).all():\n",
    "        title = 'Infrared'\n",
    "        i=9\n",
    "    elif (wavelength == FIR).all():\n",
    "        title = 'Far Infrared'\n",
    "        i=17\n",
    "\n",
    "        \n",
    "    fig,axs = plt.subplots(2,2,figsize=(7,7), gridspec_kw={'wspace': 0,'hspace': 0,'height_ratios': [1, 5], 'width_ratios': [5,1]})\n",
    "    axs[0,0].plot(x/max(x),c='black')\n",
    "    axs[0,0].axis(\"off\")\n",
    "    axs[0,0].set_title(title, fontsize=20)\n",
    "\n",
    "    axs[0,0].tick_params(labelsize=0,left=False)\n",
    "    axs[1,0].imshow(wavelength,cmap='pink')\n",
    "\n",
    "\n",
    "    base = plt.gca().transData\n",
    "    rot = transforms.Affine2D().rotate_deg(270)\n",
    "\n",
    "    axs[1,1].plot(y/max(y),c='black', transform= rot + base)\n",
    "    axs[1,1].tick_params(labelsize=0,bottom=False)\n",
    "    axs[1,1].axis(\"off\")\n",
    "\n",
    "    axs[0,1].tick_params(labelsize=0,bottom=False,left=False)\n",
    "    axs[0,1].axis(\"off\")\n",
    "\n",
    "    axs[1,0].tick_params(labelsize=14)\n",
    "    axs[1,0].set_xlabel('X [pix]',fontsize=17)\n",
    "    axs[1,0].set_ylabel('Y [pix]',fontsize=17)\n",
    "    \n",
    "    plt.savefig('IWAV'+str(i)+'_image_dense.pdf')\n",
    "    plt.close()\n",
    "    \n",
    "    return"
   ]
  },
  {
   "cell_type": "code",
   "execution_count": null,
   "metadata": {
    "scrolled": false
   },
   "outputs": [],
   "source": [
    "# plot the full images for all the chosen wavelengths as well as their x and y densities\n",
    "colorplot(UV),colorplot(BL),colorplot(RD),colorplot(IR),colorplot(FIR)"
   ]
  },
  {
   "cell_type": "code",
   "execution_count": null,
   "metadata": {},
   "outputs": [],
   "source": [
    "fig,axs = plt.subplots(1,5, figsize=(17,7), sharey=True, gridspec_kw={'wspace': 0.25})\n",
    "\n",
    "def axx(i):\n",
    "    axi = inset_axes(axs[i],width=\"3%\",height=\"50%\",loc='upper right',bbox_to_anchor=(0.05, 0., 1, 1),\n",
    "                     bbox_transform=axs[i].transAxes,borderpad=0)\n",
    "    return axi\n",
    "\n",
    "# plot the cropped Ultraviolet image\n",
    "im = axs[0].imshow(UV, cmap='pink')\n",
    "axs[0].set_title('Ultraviolet \\n'+str(UVw)+'µm', fontsize=20,pad=10)\n",
    "\n",
    "cb = fig.colorbar(im, cax=axx(0), orientation='vertical', aspect=50, shrink=0.7)\n",
    "cb.ax.locator_params(nbins=3)\n",
    "cb.ax.tick_params(labelsize=12)\n",
    "\n",
    "# plot the cropped Blue image\n",
    "im = axs[1].imshow(BL, cmap='pink')\n",
    "axs[1].set_title('Blue \\n'+str(BLw)+'µm', fontsize=20,pad=10)\n",
    "\n",
    "cb = fig.colorbar(im, cax=axx(1), orientation='vertical', aspect=50, shrink=0.7)\n",
    "cb.ax.locator_params(nbins=3)\n",
    "cb.ax.tick_params(labelsize=12)\n",
    "\n",
    "# plot the cropped Red image\n",
    "im = axs[2].imshow(RD, cmap='pink')\n",
    "axs[2].set_title('Red \\n'+str(RDw)+'µm', fontsize=20,pad=10)\n",
    "\n",
    "cb = fig.colorbar(im, cax=axx(2), orientation='vertical', aspect=50, shrink=0.7)\n",
    "cb.ax.locator_params(nbins=3)\n",
    "cb.ax.tick_params(labelsize=12)\n",
    "\n",
    "# plot the cropped Infrared image\n",
    "im = axs[3].imshow(IR, cmap='pink')\n",
    "axs[3].set_title('Infrared \\n'+str(IRw)+'µm', fontsize=20,pad=10)\n",
    "\n",
    "cb = fig.colorbar(im, cax=axx(3), orientation='vertical', aspect=50, shrink=0.7)\n",
    "cb.ax.locator_params(nbins=3)\n",
    "cb.ax.tick_params(labelsize=12)\n",
    "\n",
    "# plot the cropped Far Infrared image\n",
    "im = axs[4].imshow(FIR, cmap='pink')\n",
    "axs[4].set_title('Far Infrared \\n'+str(FIRw)+'µm', fontsize=20,pad=10)\n",
    "\n",
    "cb = fig.colorbar(im, cax=axx(4), orientation='vertical', aspect=50, shrink=0.7)\n",
    "cb.ax.locator_params(nbins=3)\n",
    "cb.ax.tick_params(labelsize=12)\n",
    "\n",
    "for ax in axs:\n",
    "    ax.set_ylim(270,70)\n",
    "    ax.set_xlim(130,250)\n",
    "    ax.tick_params(labelsize=14)\n",
    "    ax.set_xlabel('X [pix]',fontsize=17)\n",
    "\n",
    "axs[0].set_ylabel('Y [pix]',fontsize=17)\n",
    "\n",
    "plt.savefig('all_IWAV_images.pdf')\n",
    "plt.close()"
   ]
  },
  {
   "cell_type": "markdown",
   "metadata": {},
   "source": [
    "##### Part 1.2 - 2\n",
    "Plot the total fluxes of the galaxy as a function of wavelength. \n",
    "\n",
    "- What does this plot tell you about how much light is emitted at different wavelengths?\n",
    "- What do you think is determining how much light is emitted at different wavelengths? \n",
    "    - Younger stars emit light at shorter wavelengths (because they are hotter).\n",
    "    - Dust preferentially obscures light at shorter wavelengths and re-emits them in the infrared..\n"
   ]
  },
  {
   "cell_type": "code",
   "execution_count": null,
   "metadata": {},
   "outputs": [],
   "source": [
    "sumwave = np.empty(data_allwav[0].shape[0])\n",
    "\n",
    "for i,co in enumerate(datas):\n",
    "    sumwave[i]=np.sum(co)"
   ]
  },
  {
   "cell_type": "code",
   "execution_count": null,
   "metadata": {},
   "outputs": [],
   "source": [
    "fig,axs = plt.subplots(1,2, figsize=(15,5))\n",
    "\n",
    "# plot the total flux for each wavelength\n",
    "\n",
    "#ax.set_title('Total Fluxes vs. Wavelength',fontsize=20)\n",
    "for ax in axs:\n",
    "    ax.plot(waves,sumwave,'--*',ms=10, c='black')\n",
    "    ax.set_xlabel('Wavelength [ µm ]', fontsize=17)\n",
    "    ax.set_xscale('log')\n",
    "    ax.grid(alpha=0.5)\n",
    "    ax.tick_params(axis='x',labelsize=14)\n",
    "    ax.tick_params(axis='y',labelsize=14)\n",
    "    ax.yaxis.offsetText.set_fontsize(14)\n",
    "axs[0].set_ylabel('Flux [ a.u. ]', fontsize=17)\n",
    "axs[1].set_ylim(-1,3e4)\n",
    "plt.savefig('flux_v_wave.pdf')\n",
    "plt.close()"
   ]
  },
  {
   "cell_type": "markdown",
   "metadata": {},
   "source": [
    "# <center> Question 2 - Galaxy Size"
   ]
  },
  {
   "cell_type": "markdown",
   "metadata": {},
   "source": [
    "##### Part 2 - 1\n",
    "Use $\\texttt{aperture_photometry}$ to measure the circularized half-mass size of the galaxy.\n",
    "\n",
    "Place a circular aperture of radius 10 pixels at the center of the galaxy and measure the total mass inside the aperture. Change the aperture sizes to find the radius at which the total mass inside the aperture=half the total mass of the galaxy (from previous section). Hint: Automate this by iteratively placing hundred apertures of increasing sizes! Contact me for more hints."
   ]
  },
  {
   "cell_type": "code",
   "execution_count": null,
   "metadata": {},
   "outputs": [],
   "source": [
    "def half_size(data,mass=False,real=False):\n",
    "    '''\n",
    "    PARAMETERS:\n",
    "    data <ndarray>: data set being used\n",
    "    mass=False or True: whether or not half mass is being found\n",
    "    \n",
    "    RETURNS:\n",
    "    aper[h] <float>: sum within the aperture which contains half the total sum\n",
    "    position <tuple>: pixel coordinates with the highest value (the centre of the galaxy)\n",
    "    size_h <float>: half size in pixels\n",
    "    '''\n",
    "    \n",
    "    # find the sum over all the pixels\n",
    "    tot = np.sum(data)\n",
    "    \n",
    "    # find the coordinates for the center of the galaxy\n",
    "    if mass == True:\n",
    "        position = (96,104) # this was manually selected\n",
    "    elif real == True:\n",
    "        position = unravel_index(data.argmax(), data.shape) # if the real galaxy image is used\n",
    "    else:\n",
    "        q=np.empty(data_allwav[0].shape[0])\n",
    "        y=np.empty(data_allwav[0].shape[0])\n",
    "        \n",
    "        # find all the coordinates with max value at different wavelengths\n",
    "        for i,d in enumerate(datas):\n",
    "            pos = unravel_index(d.argmax(), d.shape)\n",
    "            q[i]=pos[0]\n",
    "            y[i]=pos[1]\n",
    "        # take median of the coordinates with max value\n",
    "        position = np.median(q),np.median(y)\n",
    "    \n",
    "    \n",
    "    x=np.linspace(1,200,1000)\n",
    "    \n",
    "    aper = np.empty(x.shape)\n",
    "    radii = np.empty(x.shape)\n",
    "    \n",
    "    # iterate through different radii for the aperture photometry\n",
    "    for i,rad in enumerate(x):\n",
    "        aperture = CircularAperture(position, r=rad)\n",
    "        a = aperture_photometry(data,aperture)[0][3]\n",
    "        radii[i] = rad\n",
    "        aper[i] = a\n",
    "\n",
    "    # find where the difference between the total within the aperture and the half total is minimum\n",
    "    h = np.where(aper == min(aper, key=lambda z:abs(z-tot/2)))[0][0]\n",
    "    \n",
    "    # find the radius of the aperture at the half size\n",
    "    size_h = radii[h]\n",
    "    \n",
    "    return aper[h],position,size_h"
   ]
  },
  {
   "cell_type": "markdown",
   "metadata": {},
   "source": [
    "##### Part 2 - 2\n",
    "\n",
    "Find the half-mass size of the galaxy in kpc.\n",
    "\n",
    "Use $\\texttt{PIXELSCALE}$ in the $\\texttt{header}$."
   ]
  },
  {
   "cell_type": "code",
   "execution_count": null,
   "metadata": {},
   "outputs": [],
   "source": [
    "def comp_size(pixel_size,pixel_scale,redshift):\n",
    "    '''\n",
    "    NOTE: this function uses astropy functions to calculate the size in kpc\n",
    "            - it was not used for the computation but to check that the manual computation worked\n",
    "    \n",
    "    PARAMETERS:\n",
    "    pixel_size <float>: size in pixels\n",
    "    pixel_scale <float>: how pixels scale with arcseconds on the image\n",
    "    redshift <int>: redshift of the galaxy\n",
    "    \n",
    "    RETURNS:\n",
    "    size_kpc <astropy.units.quantity.Quantity>: size in kpc\n",
    "    '''\n",
    "    # add units to the pixel scale\n",
    "    pixel_scale = pixel_scale*u.arcsec #per pixel\n",
    "\n",
    "    # find how kpc scales with arcmin at the given redshift\n",
    "    kpc_arcmin = (cosmo.kpc_proper_per_arcmin(redshift))\n",
    "    \n",
    "    # finds angular size of the galaxy\n",
    "    angular_size = pixel_size*pixel_scale\n",
    "    \n",
    "    # find the size of the galaxy in kpc\n",
    "    size_kpc = (angular_size*kpc_arcmin)   \n",
    "    \n",
    "    return size_kpc.to(u.kpc)"
   ]
  },
  {
   "cell_type": "code",
   "execution_count": null,
   "metadata": {},
   "outputs": [],
   "source": [
    "def size(pixel_size, pixel_scale, redshift, Omega_M, Omega_A):\n",
    "    '''\n",
    "    PARAMETERS:\n",
    "    pixel_size <float>: size in pixels\n",
    "    pixel_scale <float>: how pixels scale with arcseconds on the image\n",
    "    redshift <int>: redshift of the galaxy\n",
    "    Omega_M, Omega_A <floats>: current density parameters of the universe\n",
    "    Ho <astropy.units.quantity.Quantity>: current Hubble parameter of the universe\n",
    "    \n",
    "    RETURNS:\n",
    "    length <astropy.units.quantity.Quantity>: size in kpc\n",
    "    '''\n",
    "    # add units to speed of light\n",
    "    c = con.c *u.m/u.s \n",
    "\n",
    "    # add units to the pixel scale\n",
    "    pixel_scale = pixel_scale*u.arcsec #per pixel\n",
    "    \n",
    "    # finds angular size of the galaxy\n",
    "    angular_size = (pixel_size*pixel_scale).decompose()/u.rad\n",
    "    \n",
    "    # define the scale factor as a function of redshift\n",
    "    R = lambda z: 1/(1+z)\n",
    "    \n",
    "    # define the derivative of scale factor as a function of density parameters and scale factor\n",
    "    Rdot = lambda R: (Omega_M/R + Omega_A*R**2)**(1/2)\n",
    "    \n",
    "    # define function to integrate\n",
    "    func = lambda R: 1/(R*Rdot(R))\n",
    "    integr = inte.quad(func,R(redshift),1)\n",
    "    \n",
    "    # find the comoving distance (Dc) and the angular size distance (Da)\n",
    "    Dc = c*integr/Ho\n",
    "    Da = R(redshift)*Dc\n",
    "    \n",
    "    # find length using angular size and Da\n",
    "    length = Da*angular_size\n",
    "    \n",
    "    return length[0].decompose().to(u.kpc)"
   ]
  },
  {
   "cell_type": "markdown",
   "metadata": {},
   "source": [
    "##### Part 2.1\n",
    "Measure the half-light size of this galaxy at optical wavelength (∼500 nm).\n",
    "\n",
    "How does this size compare to the half-mass size of the galaxy?"
   ]
  },
  {
   "cell_type": "code",
   "execution_count": null,
   "metadata": {},
   "outputs": [],
   "source": [
    "# define constants\n",
    "pixel_scale,redshift = hdr_allwav['PIXSCALE'],hdr_allwav['Z']\n",
    "Omega_M, Omega_A, Ho = cosmo.Om0, 1-cosmo.Om0, cosmo.H(0)"
   ]
  },
  {
   "cell_type": "code",
   "execution_count": null,
   "metadata": {},
   "outputs": [],
   "source": [
    "dat500nm.shape[0]/stmass.shape[0]"
   ]
  },
  {
   "cell_type": "code",
   "execution_count": null,
   "metadata": {},
   "outputs": [],
   "source": [
    "# find the data set closest to the given optical wavelength\n",
    "i = np.where(waves == min(waves, key=lambda x:abs(x-0.5)))[0][0]\n",
    "dat500nm, wav500nm = datas[i], waves[i]"
   ]
  },
  {
   "cell_type": "code",
   "execution_count": null,
   "metadata": {},
   "outputs": [],
   "source": [
    "'''Find the half-light size'''\n",
    "_,hl_pos,hl_size = half_size(dat500nm)\n",
    "half_light_size500nm = size(hl_size, pixel_scale, redshift, Omega_M, Omega_A)\n",
    "half_light_size500nm"
   ]
  },
  {
   "cell_type": "code",
   "execution_count": null,
   "metadata": {},
   "outputs": [],
   "source": [
    "'''Find the half-mass size'''\n",
    "_,hm_pos,hm_size = half_size(stmass+gmass+dmass,mass=True)\n",
    "half_mass_size500nm = size(hm_size, pixel_scale*dat500nm.shape[0]/stmass.shape[0], redshift, Omega_M, Omega_A)\n",
    "half_mass_size500nm"
   ]
  },
  {
   "cell_type": "code",
   "execution_count": null,
   "metadata": {},
   "outputs": [],
   "source": [
    "# ratio of half mass to half light\n",
    "half_mass_size500nm/half_light_size500nm"
   ]
  },
  {
   "cell_type": "code",
   "execution_count": null,
   "metadata": {},
   "outputs": [],
   "source": [
    "y,x = hl_pos\n",
    "pos = (x,y)\n",
    "\n",
    "fig,axs = plt.subplots(1,1,figsize=(6,6))\n",
    "\n",
    "# define the circle with radius of the half light size at the centre of the galaxy\n",
    "h_light = plt.Circle(pos,hl_size,color='r',ls='-.',lw=3,fill=False,label='Half-Light')\n",
    "\n",
    "# define the circle with radius of the half mass size at the centre of the galaxy\n",
    "h_mass = plt.Circle(pos,hm_size*dat500nm.shape[0]/stmass.shape[0],color='black',ls='--',lw=3,fill=False,label='Half-Mass') \n",
    "\n",
    "# plot the image of the galaxy at optical wavelength\n",
    "im = axs.imshow(np.log10(dat500nm),cmap='twilight')\n",
    "\n",
    "axi = inset_axes(axs,width=\"3%\",height=\"100%\",loc='center right',bbox_to_anchor=(0.06, 0., 1, 1),\n",
    "                 bbox_transform=axs.transAxes,borderpad=0)\n",
    "cb = plt.colorbar(im,cax=axi)\n",
    "cb.ax.tick_params(labelsize=12)\n",
    "cb.ax.get_yaxis().labelpad = 20\n",
    "cb.ax.set_ylabel(r'log( $Flux$)',rotation=270,loc='center',fontsize=14)\n",
    "\n",
    "# plot the two circles for the half sizes\n",
    "axs.add_patch(h_light)\n",
    "axs.add_patch(h_mass)\n",
    "\n",
    "axs.set_ylim(310,50)\n",
    "axs.set_xlim(120,265)\n",
    "axs.tick_params(labelsize=14)\n",
    "axs.legend(fontsize=14)\n",
    "axs.set_xlabel('X [pix]',fontsize=17)\n",
    "axs.set_ylabel('Y [pix]',fontsize=17)\n",
    "\n",
    "plt.savefig('circles.pdf')\n",
    "plt.close()"
   ]
  },
  {
   "cell_type": "markdown",
   "metadata": {},
   "source": [
    "##### Part 2.2\n",
    "Repeat this technique to measure the sizes at all wavelengths in kpc."
   ]
  },
  {
   "cell_type": "code",
   "execution_count": null,
   "metadata": {},
   "outputs": [],
   "source": [
    "half_light_sizes = np.empty(data_allwav[0].shape[0])\n",
    "pixel_scale,redshift = hdr_allwav['PIXSCALE'],hdr_allwav['Z']\n",
    "\n",
    "for i,dat in enumerate(datas):\n",
    "    _,_,hlsize = half_size(dat)\n",
    "    half_light_sizes[i] = size(hlsize, pixel_scale, redshift, Omega_M, Omega_A).value"
   ]
  },
  {
   "cell_type": "markdown",
   "metadata": {},
   "source": [
    "##### Park 2.3\n",
    "Plot size vs. wavelength of this galaxy. Over-plot the half-mass size of the galaxy as dashed line."
   ]
  },
  {
   "cell_type": "code",
   "execution_count": null,
   "metadata": {},
   "outputs": [],
   "source": [
    "plt.figure(figsize=(8,6))\n",
    "# plot the half light sizes at each wavelength\n",
    "plt.plot(waves,half_light_sizes,'-.o',c='black',ms=7,label='Half-Light')\n",
    "\n",
    "# plot the half mass size\n",
    "plt.axhline(y = half_mass_size500nm.value, color='indigo', linestyle='--',label='Half-Mass')\n",
    "\n",
    "plt.grid(alpha=0.5)\n",
    "plt.xscale('log')\n",
    "plt.xlabel('Wavelength [µm]',fontsize=17)\n",
    "plt.ylabel('Size [kpc]',fontsize=17)\n",
    "plt.xticks(fontsize=14)\n",
    "plt.yticks(fontsize=14)\n",
    "plt.ylim(6,12)\n",
    "plt.legend(fontsize=14,loc=2)\n",
    "plt.savefig('half_v_wave.pdf')\n",
    "plt.close()"
   ]
  },
  {
   "cell_type": "code",
   "execution_count": null,
   "metadata": {},
   "outputs": [],
   "source": [
    "# find the ratio of half mass to half light at all wavelenghts \n",
    "ratios = half_mass_size500nm/(half_light_sizes*u.kpc)\n",
    "ratios"
   ]
  },
  {
   "cell_type": "markdown",
   "metadata": {},
   "source": [
    "##### Part 2.4\n",
    "Here is an image on the same galaxy on the sky $\\texttt{galaxy_onsky_F160W.fits}$. Can you use the methods described above to measure the size of the galaxy from this image? Explain why or why not."
   ]
  },
  {
   "cell_type": "code",
   "execution_count": null,
   "metadata": {},
   "outputs": [],
   "source": [
    "exponent = np.log(data_onsky) / np.log(0.01)\n",
    "clean = 900**(3*exponent)"
   ]
  },
  {
   "cell_type": "code",
   "execution_count": null,
   "metadata": {},
   "outputs": [],
   "source": [
    "datbool = np.empty(clean.shape, dtype=bool)\n",
    "for i in range(194):\n",
    "    for j in range(194):\n",
    "        if i < 75 or i > 115 or j > 125 or j < 75:\n",
    "            datbool[j,i] = False\n",
    "        else:\n",
    "            if clean[j,i]>100:\n",
    "                datbool[j,i] = True\n",
    "            elif clean[j,i]<100:\n",
    "                datbool[j,i] = False"
   ]
  },
  {
   "cell_type": "code",
   "execution_count": null,
   "metadata": {},
   "outputs": [],
   "source": [
    "x0 = np.mean(data_onsky,axis=0)\n",
    "y0 = np.mean(data_onsky,axis=1)\n",
    "x1 = np.mean(data_onsky*datbool,axis=0)\n",
    "y1 = np.mean(data_onsky*datbool,axis=1)\n",
    "\n",
    "fig,axs = plt.subplots(1,2, sharey=True, figsize=(14,4), gridspec_kw={'wspace': 0.1})\n",
    "axs[0].plot(x0/max(x0), c='black', ls='--', label='X values')\n",
    "axs[0].plot(y0/max(y0), alpha=0.8, c='green', ls='-', label='Y values')\n",
    "axs[0].set_title('Unfiltered', fontsize=19)\n",
    "\n",
    "axs[1].plot(x1/max(x1), c='black', ls='--', label='X values')\n",
    "axs[1].plot(y1/max(y1), alpha=0.8, c='green', ls='-', label='Y values')\n",
    "axs[1].set_title('Filtered', fontsize=19)\n",
    "\n",
    "for ax in axs:\n",
    "    ax.legend(fontsize=14)\n",
    "    ax.tick_params(labelsize=14)\n",
    "    ax.set_xlabel('Pixel', fontsize=16)\n",
    "axs[0].set_ylabel('Flux Density', fontsize=16)\n",
    "plt.savefig('onsky_filt.pdf')\n",
    "plt.close()"
   ]
  },
  {
   "cell_type": "code",
   "execution_count": null,
   "metadata": {
    "scrolled": true
   },
   "outputs": [],
   "source": [
    "data = data_onsky*datbool\n",
    "_,_,size_onsky = halfsize(data)\n",
    "pixelscale,reds = hdr_onsky['PIXSCALE'], hdr_onsky['Z']\n",
    "size_onsky,size(size_onsky, pixelscale, reds, Omega_M, Omega_A)"
   ]
  },
  {
   "cell_type": "markdown",
   "metadata": {},
   "source": [
    "# <center> Question 3 - Using $\\texttt{statmorph}$"
   ]
  },
  {
   "cell_type": "markdown",
   "metadata": {},
   "source": [
    "##### Part 3-1\n",
    "Install $\\texttt{statmorph}$ - ensure that this is installed before running the following script on your comuter"
   ]
  },
  {
   "cell_type": "code",
   "execution_count": null,
   "metadata": {},
   "outputs": [],
   "source": [
    "import statmorph\n",
    "from statmorph.utils.image_diagnostics import make_figure"
   ]
  },
  {
   "cell_type": "code",
   "execution_count": null,
   "metadata": {},
   "outputs": [],
   "source": [
    "import scipy.ndimage as ndi\n",
    "from astropy.visualization import simple_norm\n",
    "from astropy.modeling import models\n",
    "from astropy.convolution import convolve\n",
    "import photutils\n",
    "import time\n",
    "%matplotlib inline"
   ]
  },
  {
   "cell_type": "markdown",
   "metadata": {},
   "source": [
    "##### Part 3-2\n",
    "Follow the tutorial to make sure $\\texttt{statmorph}$ can run."
   ]
  },
  {
   "cell_type": "code",
   "execution_count": null,
   "metadata": {
    "scrolled": false
   },
   "outputs": [],
   "source": [
    "ny, nx = 240, 240\n",
    "y, x = np.mgrid[0:ny, 0:nx]\n",
    "sersic_model = models.Sersic2D(\n",
    "    amplitude=1, r_eff=20, n=2.5, x_0=120.5, y_0=96.5,\n",
    "    ellip=0.5, theta=-0.5)\n",
    "image = sersic_model(x, y)\n",
    "plt.imshow(image, cmap='gray', origin='lower',\n",
    "           norm=simple_norm(image, stretch='log', log_a=10000))\n",
    "plt.show()\n",
    "\n",
    "size = 20  # on each side from the center\n",
    "sigma_psf = 2.0\n",
    "y, x = np.mgrid[-size:size+1, -size:size+1]\n",
    "psf = np.exp(-(x**2 + y**2)/(2.0*sigma_psf**2))\n",
    "psf /= np.sum(psf)\n",
    "plt.imshow(psf, origin='lower', cmap='gray')\n",
    "plt.show()"
   ]
  },
  {
   "cell_type": "code",
   "execution_count": null,
   "metadata": {},
   "outputs": [],
   "source": [
    "image = convolve(image, psf)\n",
    "plt.imshow(image, cmap='gray', origin='lower',\n",
    "           norm=simple_norm(image, stretch='log', log_a=10000))\n",
    "plt.show()\n",
    "\n",
    "np.random.seed(1)\n",
    "snp = 100.0\n",
    "image += (1.0 / snp) * np.random.standard_normal(size=(ny, nx))\n",
    "plt.imshow(image, cmap='gray', origin='lower',\n",
    "           norm=simple_norm(image, stretch='log', log_a=10000))\n",
    "plt.show()"
   ]
  },
  {
   "cell_type": "code",
   "execution_count": null,
   "metadata": {},
   "outputs": [],
   "source": [
    "gain = 10000.0\n",
    "threshold = photutils.detect_threshold(image, 1.5)\n",
    "npixels = 5  # minimum number of connected pixels\n",
    "segm = photutils.detect_sources(image, threshold, npixels)"
   ]
  },
  {
   "cell_type": "code",
   "execution_count": null,
   "metadata": {},
   "outputs": [],
   "source": [
    "# Keep only the largest segment\n",
    "label = np.argmax(segm.areas) + 1\n",
    "segmap = segm.data == label\n",
    "plt.imshow(segmap, origin='lower', cmap='gray')\n",
    "plt.show()\n",
    "\n",
    "segmap_float = ndi.uniform_filter(np.float64(segmap), size=10)\n",
    "segmap = segmap_float > 0.5\n",
    "plt.imshow(segmap, origin='lower', cmap='gray')\n",
    "plt.show()"
   ]
  },
  {
   "cell_type": "code",
   "execution_count": null,
   "metadata": {},
   "outputs": [],
   "source": [
    "start = time.time()\n",
    "source_morphs = statmorph.source_morphology(\n",
    "    image, segmap, gain=gain, psf=psf)\n",
    "print('Time: %g s.' % (time.time() - start))"
   ]
  },
  {
   "cell_type": "code",
   "execution_count": null,
   "metadata": {},
   "outputs": [],
   "source": [
    "morph = source_morphs[0]"
   ]
  },
  {
   "cell_type": "code",
   "execution_count": null,
   "metadata": {},
   "outputs": [],
   "source": [
    "print('xc_centroid =', morph.xc_centroid)\n",
    "print('yc_centroid =', morph.yc_centroid)\n",
    "print('ellipticity_centroid =', morph.ellipticity_centroid)\n",
    "print('elongation_centroid =', morph.elongation_centroid)\n",
    "print('orientation_centroid =', morph.orientation_centroid)\n",
    "print('xc_asymmetry =', morph.xc_asymmetry)\n",
    "print('yc_asymmetry =', morph.yc_asymmetry)\n",
    "print('ellipticity_asymmetry =', morph.ellipticity_asymmetry)\n",
    "print('elongation_asymmetry =', morph.elongation_asymmetry)\n",
    "print('orientation_asymmetry =', morph.orientation_asymmetry)\n",
    "print('rpetro_circ =', morph.rpetro_circ)\n",
    "print('rpetro_ellip =', morph.rpetro_ellip)\n",
    "print('rhalf_circ =', morph.rhalf_circ)\n",
    "print('rhalf_ellip =', morph.rhalf_ellip)\n",
    "print('r20 =', morph.r20)\n",
    "print('r80 =', morph.r80)\n",
    "print('Gini =', morph.gini)\n",
    "print('M20 =', morph.m20)\n",
    "print('F(G, M20) =', morph.gini_m20_bulge)\n",
    "print('S(G, M20) =', morph.gini_m20_merger)\n",
    "print('sn_per_pixel =', morph.sn_per_pixel)\n",
    "print('C =', morph.concentration)\n",
    "print('A =', morph.asymmetry)\n",
    "print('S =', morph.smoothness)\n",
    "print('sersic_amplitude =', morph.sersic_amplitude)\n",
    "print('sersic_rhalf =', morph.sersic_rhalf)\n",
    "print('sersic_n =', morph.sersic_n)\n",
    "print('sersic_xc =', morph.sersic_xc)\n",
    "print('sersic_yc =', morph.sersic_yc)\n",
    "print('sersic_ellip =', morph.sersic_ellip)\n",
    "print('sersic_theta =', morph.sersic_theta)\n",
    "print('sky_mean =', morph.sky_mean)\n",
    "print('sky_median =', morph.sky_median)\n",
    "print('sky_sigma =', morph.sky_sigma)\n",
    "print('flag =', morph.flag)\n",
    "print('flag_sersic =', morph.flag_sersic)"
   ]
  },
  {
   "cell_type": "code",
   "execution_count": null,
   "metadata": {},
   "outputs": [],
   "source": [
    "ny, nx = image.shape\n",
    "y, x = np.mgrid[0:ny, 0:nx]\n",
    "fitted_model = statmorph.ConvolvedSersic2D(\n",
    "    amplitude=morph.sersic_amplitude,\n",
    "    r_eff=morph.sersic_rhalf,\n",
    "    n=morph.sersic_n,\n",
    "    x_0=morph.sersic_xc,\n",
    "    y_0=morph.sersic_yc,\n",
    "    ellip=morph.sersic_ellip,\n",
    "    theta=morph.sersic_theta)\n",
    "fitted_model.set_psf(psf)  # required when using ConvolvedSersic2D\n",
    "image_model = fitted_model(x, y)\n",
    "bg_noise = (1.0 / snp) * np.random.standard_normal(size=(ny, nx))\n",
    "fig = plt.figure(figsize=(15,5))\n",
    "ax = fig.add_subplot(131)\n",
    "ax.imshow(image, cmap='gray', origin='lower',\n",
    "           norm=simple_norm(image, stretch='log', log_a=10000))\n",
    "ax.set_title('Original image')\n",
    "ax = fig.add_subplot(132)\n",
    "ax.imshow(image_model + bg_noise, cmap='gray', origin='lower',\n",
    "           norm=simple_norm(image, stretch='log', log_a=10000))\n",
    "ax.set_title('Fitted model')\n",
    "ax = fig.add_subplot(133)\n",
    "residual = image - image_model\n",
    "ax.imshow(residual, cmap='gray', origin='lower',\n",
    "           norm=simple_norm(residual, stretch='linear'))\n",
    "ax.set_title('Residual')"
   ]
  },
  {
   "cell_type": "code",
   "execution_count": null,
   "metadata": {},
   "outputs": [],
   "source": [
    "fig = make_figure(morph)"
   ]
  },
  {
   "cell_type": "code",
   "execution_count": null,
   "metadata": {
    "scrolled": true
   },
   "outputs": [],
   "source": [
    "plt.close(fig)"
   ]
  },
  {
   "cell_type": "markdown",
   "metadata": {},
   "source": [
    "##### Part 3-3\n",
    "Take a shot at measuring the morphological parameters of this example galaxy $\\texttt{galaxy_onsky_F160W.fits}$."
   ]
  },
  {
   "cell_type": "code",
   "execution_count": null,
   "metadata": {},
   "outputs": [],
   "source": [
    "hdr_onsky,data_onsky = read('galaxy_onsky_F160W.fits')"
   ]
  },
  {
   "cell_type": "code",
   "execution_count": null,
   "metadata": {
    "scrolled": false
   },
   "outputs": [],
   "source": [
    "image=data_onsky\n",
    "plt.imshow(image, cmap='gray', origin='lower',\n",
    "           norm=simple_norm(image, stretch='log', log_a=10000))\n",
    "plt.show()\n",
    "size = 20  # on each side from the center\n",
    "sigma_psf = 2.0\n",
    "y, x = np.mgrid[-size:size+1, -size:size+1]\n",
    "psf = np.exp(-(x**2 + y**2)/(2.0*sigma_psf**2))\n",
    "psf /= np.sum(psf)\n",
    "#plt.imshow(psf, origin='lower', cmap='gray')\n",
    "image = convolve(image, psf)\n",
    "plt.imshow(image, cmap='gray', origin='lower',\n",
    "           norm=simple_norm(image, stretch='log', log_a=10000))\n",
    "plt.show()"
   ]
  },
  {
   "cell_type": "code",
   "execution_count": null,
   "metadata": {},
   "outputs": [],
   "source": [
    "gain = 100.0\n",
    "threshold = photutils.detect_threshold(image, 1.1)\n",
    "npixels = 5  # minimum number of connected pixels\n",
    "segm = photutils.detect_sources(image, threshold, npixels)\n",
    "\n",
    "# Keep only the largest segment\n",
    "label = np.argmax(segm.areas) + 1\n",
    "segmap = segm.data == label\n",
    "#plt.imshow(segmap, origin='lower', cmap='gray')\n",
    "\n",
    "segmap_float = ndi.uniform_filter(np.float64(segmap), size=10)\n",
    "segmap = segmap_float > 0.5\n",
    "plt.imshow(segmap, origin='lower', cmap='gray')\n",
    "plt.show()"
   ]
  },
  {
   "cell_type": "code",
   "execution_count": null,
   "metadata": {},
   "outputs": [],
   "source": [
    "start = time.time()\n",
    "source_morphs = statmorph.source_morphology(\n",
    "    image, segmap, gain=gain, psf=psf)\n",
    "print('Time: %g s.' % (time.time() - start))"
   ]
  },
  {
   "cell_type": "code",
   "execution_count": null,
   "metadata": {},
   "outputs": [],
   "source": [
    "morph = source_morphs[0]"
   ]
  },
  {
   "cell_type": "code",
   "execution_count": null,
   "metadata": {
    "scrolled": false
   },
   "outputs": [],
   "source": [
    "print('xc_centroid =', morph.xc_centroid)\n",
    "print('yc_centroid =', morph.yc_centroid)\n",
    "print('ellipticity_centroid =', morph.ellipticity_centroid)\n",
    "print('elongation_centroid =', morph.elongation_centroid)\n",
    "print('orientation_centroid =', morph.orientation_centroid)\n",
    "print('xc_asymmetry =', morph.xc_asymmetry)\n",
    "print('yc_asymmetry =', morph.yc_asymmetry)\n",
    "print('ellipticity_asymmetry =', morph.ellipticity_asymmetry)\n",
    "print('elongation_asymmetry =', morph.elongation_asymmetry)\n",
    "print('orientation_asymmetry =', morph.orientation_asymmetry)\n",
    "print('rpetro_circ =', morph.rpetro_circ)\n",
    "print('rpetro_ellip =', morph.rpetro_ellip)\n",
    "print('rhalf_circ =', morph.rhalf_circ)\n",
    "print('rhalf_ellip =', morph.rhalf_ellip)\n",
    "print('r20 =', morph.r20)\n",
    "print('r80 =', morph.r80)\n",
    "print('Gini =', morph.gini)\n",
    "print('M20 =', morph.m20)\n",
    "print('F(G, M20) =', morph.gini_m20_bulge)\n",
    "print('S(G, M20) =', morph.gini_m20_merger)\n",
    "print('sn_per_pixel =', morph.sn_per_pixel)\n",
    "print('C =', morph.concentration)\n",
    "print('A =', morph.asymmetry)\n",
    "print('S =', morph.smoothness)\n",
    "print('sersic_amplitude =', morph.sersic_amplitude)\n",
    "print('sersic_rhalf =', morph.sersic_rhalf)\n",
    "print('sersic_n =', morph.sersic_n)\n",
    "print('sersic_xc =', morph.sersic_xc)\n",
    "print('sersic_yc =', morph.sersic_yc)\n",
    "print('sersic_ellip =', morph.sersic_ellip)\n",
    "print('sersic_theta =', morph.sersic_theta)\n",
    "print('sky_mean =', morph.sky_mean)\n",
    "print('sky_median =', morph.sky_median)\n",
    "print('sky_sigma =', morph.sky_sigma)\n",
    "print('flag =', morph.flag)\n",
    "print('flag_sersic =', morph.flag_sersic)"
   ]
  },
  {
   "cell_type": "code",
   "execution_count": null,
   "metadata": {},
   "outputs": [],
   "source": [
    "ny, nx = image.shape\n",
    "y, x = np.mgrid[0:ny, 0:nx]\n",
    "fitted_model = statmorph.ConvolvedSersic2D(\n",
    "    amplitude=morph.sersic_amplitude,\n",
    "    r_eff=morph.sersic_rhalf,\n",
    "    n=morph.sersic_n,\n",
    "    x_0=morph.sersic_xc,\n",
    "    y_0=morph.sersic_yc,\n",
    "    ellip=morph.sersic_ellip,\n",
    "    theta=morph.sersic_theta)\n",
    "fitted_model.set_psf(psf)  # required when using ConvolvedSersic2D\n",
    "image_model = fitted_model(x, y)\n",
    "bg_noise = (1.0 / snp) * np.random.standard_normal(size=(ny, nx))\n",
    "fig = plt.figure(figsize=(15,5))\n",
    "ax = fig.add_subplot(131)\n",
    "ax.imshow(image, cmap='gray', origin='lower',\n",
    "           norm=simple_norm(image, stretch='log', log_a=10000))\n",
    "ax.set_title('Original image')\n",
    "ax = fig.add_subplot(132)\n",
    "ax.imshow(image_model + bg_noise, cmap='gray', origin='lower',\n",
    "           norm=simple_norm(image, stretch='log', log_a=10000))\n",
    "ax.set_title('Fitted model')\n",
    "ax = fig.add_subplot(133)\n",
    "residual = image - image_model\n",
    "ax.imshow(residual, cmap='gray', origin='lower',\n",
    "           norm=simple_norm(residual, stretch='linear'))\n",
    "ax.set_title('Residual')\n",
    "\n",
    "plt.show()"
   ]
  },
  {
   "cell_type": "code",
   "execution_count": null,
   "metadata": {
    "scrolled": false
   },
   "outputs": [],
   "source": [
    "fig = make_figure(morph)\n",
    "plt.savefig('statmorph.pdf')\n",
    "plt.close(fig)"
   ]
  }
 ],
 "metadata": {
  "kernelspec": {
   "display_name": "Python 3",
   "language": "python",
   "name": "python3"
  },
  "language_info": {
   "codemirror_mode": {
    "name": "ipython",
    "version": 3
   },
   "file_extension": ".py",
   "mimetype": "text/x-python",
   "name": "python",
   "nbconvert_exporter": "python",
   "pygments_lexer": "ipython3",
   "version": "3.8.5"
  }
 },
 "nbformat": 4,
 "nbformat_minor": 4
}
